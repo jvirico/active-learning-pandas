{
 "cells": [
  {
   "cell_type": "markdown",
   "source": [
    "# Modify the report's structure\n",
    "In this notebook we have a look at two use cases in which we modify the existing report structure: splitting up large reports and reordering the report sections. Both use cases are based on actual user inquiries. The datasets used in this notebook are obtained using the `kaggle` api. If you haven't done so already, you should set up the [api credentials](https://github.com/Kaggle/kaggle-api#api-credentials)."
   ],
   "metadata": {}
  },
  {
   "cell_type": "markdown",
   "source": [
    "The autoreload instruction reloads modules automatically before code execution, which is helpful for the update below."
   ],
   "metadata": {}
  },
  {
   "cell_type": "code",
   "execution_count": 1,
   "source": [
    "%load_ext autoreload\n",
    "%autoreload 2"
   ],
   "outputs": [],
   "metadata": {}
  },
  {
   "cell_type": "markdown",
   "source": [
    "Make sure that we have the latest version of pandas-profiling."
   ],
   "metadata": {}
  },
  {
   "cell_type": "code",
   "execution_count": 2,
   "source": [
    "import sys\n",
    "\n",
    "!{sys.executable} -m pip install -U pandas-profiling[notebook]\n",
    "!jupyter nbextension enable --py widgetsnbextension\n",
    "\n",
    "!{sys.executable} -m pip install -U kaggle"
   ],
   "outputs": [
    {
     "output_type": "stream",
     "name": "stdout",
     "text": [
      "Requirement already satisfied: pandas-profiling[notebook] in /Library/Frameworks/Python.framework/Versions/3.8/lib/python3.8/site-packages (3.0.0)\n",
      "Requirement already satisfied: scipy>=1.4.1 in /Library/Frameworks/Python.framework/Versions/3.8/lib/python3.8/site-packages (from pandas-profiling[notebook]) (1.7.1)\n",
      "Requirement already satisfied: numpy>=1.16.0 in /Library/Frameworks/Python.framework/Versions/3.8/lib/python3.8/site-packages (from pandas-profiling[notebook]) (1.18.4)\n",
      "Requirement already satisfied: htmlmin>=0.1.12 in /Library/Frameworks/Python.framework/Versions/3.8/lib/python3.8/site-packages (from pandas-profiling[notebook]) (0.1.12)\n",
      "Requirement already satisfied: pandas!=1.0.0,!=1.0.1,!=1.0.2,!=1.1.0,>=0.25.3 in /Library/Frameworks/Python.framework/Versions/3.8/lib/python3.8/site-packages (from pandas-profiling[notebook]) (1.3.2)\n",
      "Requirement already satisfied: pydantic>=1.8.1 in /Library/Frameworks/Python.framework/Versions/3.8/lib/python3.8/site-packages (from pandas-profiling[notebook]) (1.8.2)\n",
      "Requirement already satisfied: PyYAML>=5.0.0 in /Library/Frameworks/Python.framework/Versions/3.8/lib/python3.8/site-packages (from pandas-profiling[notebook]) (5.4.1)\n",
      "Requirement already satisfied: tangled-up-in-unicode==0.1.0 in /Library/Frameworks/Python.framework/Versions/3.8/lib/python3.8/site-packages (from pandas-profiling[notebook]) (0.1.0)\n",
      "Requirement already satisfied: missingno>=0.4.2 in /Library/Frameworks/Python.framework/Versions/3.8/lib/python3.8/site-packages (from pandas-profiling[notebook]) (0.5.0)\n",
      "Requirement already satisfied: requests>=2.24.0 in /Library/Frameworks/Python.framework/Versions/3.8/lib/python3.8/site-packages (from pandas-profiling[notebook]) (2.26.0)\n",
      "Requirement already satisfied: jinja2>=2.11.1 in /Library/Frameworks/Python.framework/Versions/3.8/lib/python3.8/site-packages (from pandas-profiling[notebook]) (3.0.1)\n",
      "Requirement already satisfied: phik>=0.11.1 in /Library/Frameworks/Python.framework/Versions/3.8/lib/python3.8/site-packages (from pandas-profiling[notebook]) (0.12.0)\n",
      "Requirement already satisfied: seaborn>=0.10.1 in /Library/Frameworks/Python.framework/Versions/3.8/lib/python3.8/site-packages (from pandas-profiling[notebook]) (0.11.2)\n",
      "Requirement already satisfied: joblib in /Library/Frameworks/Python.framework/Versions/3.8/lib/python3.8/site-packages (from pandas-profiling[notebook]) (1.0.1)\n",
      "Requirement already satisfied: tqdm>=4.48.2 in /Library/Frameworks/Python.framework/Versions/3.8/lib/python3.8/site-packages (from pandas-profiling[notebook]) (4.62.1)\n",
      "Requirement already satisfied: visions[type_image_path]==0.7.1 in /Library/Frameworks/Python.framework/Versions/3.8/lib/python3.8/site-packages (from pandas-profiling[notebook]) (0.7.1)\n",
      "Requirement already satisfied: matplotlib>=3.2.0 in /Library/Frameworks/Python.framework/Versions/3.8/lib/python3.8/site-packages (from pandas-profiling[notebook]) (3.2.1)\n",
      "Requirement already satisfied: jupyter-client>=6.0.0 in /Users/irico/Library/Python/3.8/lib/python/site-packages (from pandas-profiling[notebook]) (6.1.7)\n",
      "Requirement already satisfied: ipywidgets>=7.5.1 in /Library/Frameworks/Python.framework/Versions/3.8/lib/python3.8/site-packages (from pandas-profiling[notebook]) (7.6.3)\n",
      "Requirement already satisfied: jupyter-core>=4.6.3 in /Users/irico/Library/Python/3.8/lib/python/site-packages (from pandas-profiling[notebook]) (4.6.3)\n",
      "Requirement already satisfied: bottleneck in /Library/Frameworks/Python.framework/Versions/3.8/lib/python3.8/site-packages (from visions[type_image_path]==0.7.1->pandas-profiling[notebook]) (1.3.2)\n",
      "Requirement already satisfied: multimethod==1.4 in /Library/Frameworks/Python.framework/Versions/3.8/lib/python3.8/site-packages (from visions[type_image_path]==0.7.1->pandas-profiling[notebook]) (1.4)\n",
      "Requirement already satisfied: attrs>=19.3.0 in /Library/Frameworks/Python.framework/Versions/3.8/lib/python3.8/site-packages (from visions[type_image_path]==0.7.1->pandas-profiling[notebook]) (21.2.0)\n",
      "Requirement already satisfied: networkx>=2.4 in /Library/Frameworks/Python.framework/Versions/3.8/lib/python3.8/site-packages (from visions[type_image_path]==0.7.1->pandas-profiling[notebook]) (2.5)\n",
      "Requirement already satisfied: Pillow in /Library/Frameworks/Python.framework/Versions/3.8/lib/python3.8/site-packages (from visions[type_image_path]==0.7.1->pandas-profiling[notebook]) (8.0.1)\n",
      "Requirement already satisfied: imagehash in /Library/Frameworks/Python.framework/Versions/3.8/lib/python3.8/site-packages (from visions[type_image_path]==0.7.1->pandas-profiling[notebook]) (4.2.1)\n",
      "Requirement already satisfied: ipython>=4.0.0 in /Users/irico/Library/Python/3.8/lib/python/site-packages (from ipywidgets>=7.5.1->pandas-profiling[notebook]) (7.18.1)\n",
      "Requirement already satisfied: nbformat>=4.2.0 in /Library/Frameworks/Python.framework/Versions/3.8/lib/python3.8/site-packages (from ipywidgets>=7.5.1->pandas-profiling[notebook]) (5.1.3)\n",
      "Requirement already satisfied: ipykernel>=4.5.1 in /Users/irico/Library/Python/3.8/lib/python/site-packages (from ipywidgets>=7.5.1->pandas-profiling[notebook]) (5.3.4)\n",
      "Requirement already satisfied: jupyterlab-widgets>=1.0.0 in /Library/Frameworks/Python.framework/Versions/3.8/lib/python3.8/site-packages (from ipywidgets>=7.5.1->pandas-profiling[notebook]) (1.0.0)\n",
      "Requirement already satisfied: traitlets>=4.3.1 in /Users/irico/Library/Python/3.8/lib/python/site-packages (from ipywidgets>=7.5.1->pandas-profiling[notebook]) (5.0.5)\n",
      "Requirement already satisfied: widgetsnbextension~=3.5.0 in /Library/Frameworks/Python.framework/Versions/3.8/lib/python3.8/site-packages (from ipywidgets>=7.5.1->pandas-profiling[notebook]) (3.5.1)\n",
      "Requirement already satisfied: tornado>=4.2 in /Library/Frameworks/Python.framework/Versions/3.8/lib/python3.8/site-packages (from ipykernel>=4.5.1->ipywidgets>=7.5.1->pandas-profiling[notebook]) (6.1)\n",
      "Requirement already satisfied: appnope in /Users/irico/Library/Python/3.8/lib/python/site-packages (from ipykernel>=4.5.1->ipywidgets>=7.5.1->pandas-profiling[notebook]) (0.1.0)\n",
      "Requirement already satisfied: prompt-toolkit!=3.0.0,!=3.0.1,<3.1.0,>=2.0.0 in /Users/irico/Library/Python/3.8/lib/python/site-packages (from ipython>=4.0.0->ipywidgets>=7.5.1->pandas-profiling[notebook]) (3.0.8)\n",
      "Requirement already satisfied: setuptools>=18.5 in /Library/Frameworks/Python.framework/Versions/3.8/lib/python3.8/site-packages (from ipython>=4.0.0->ipywidgets>=7.5.1->pandas-profiling[notebook]) (41.2.0)\n",
      "Requirement already satisfied: pexpect>4.3 in /Users/irico/Library/Python/3.8/lib/python/site-packages (from ipython>=4.0.0->ipywidgets>=7.5.1->pandas-profiling[notebook]) (4.8.0)\n",
      "Requirement already satisfied: pickleshare in /Users/irico/Library/Python/3.8/lib/python/site-packages (from ipython>=4.0.0->ipywidgets>=7.5.1->pandas-profiling[notebook]) (0.7.5)\n",
      "Requirement already satisfied: pygments in /Users/irico/Library/Python/3.8/lib/python/site-packages (from ipython>=4.0.0->ipywidgets>=7.5.1->pandas-profiling[notebook]) (2.7.1)\n",
      "Requirement already satisfied: backcall in /Users/irico/Library/Python/3.8/lib/python/site-packages (from ipython>=4.0.0->ipywidgets>=7.5.1->pandas-profiling[notebook]) (0.2.0)\n",
      "Requirement already satisfied: jedi>=0.10 in /Users/irico/Library/Python/3.8/lib/python/site-packages (from ipython>=4.0.0->ipywidgets>=7.5.1->pandas-profiling[notebook]) (0.17.2)\n",
      "Requirement already satisfied: decorator in /Users/irico/Library/Python/3.8/lib/python/site-packages (from ipython>=4.0.0->ipywidgets>=7.5.1->pandas-profiling[notebook]) (4.4.2)\n",
      "Requirement already satisfied: parso<0.8.0,>=0.7.0 in /Users/irico/Library/Python/3.8/lib/python/site-packages (from jedi>=0.10->ipython>=4.0.0->ipywidgets>=7.5.1->pandas-profiling[notebook]) (0.7.1)\n",
      "Requirement already satisfied: MarkupSafe>=2.0 in /Library/Frameworks/Python.framework/Versions/3.8/lib/python3.8/site-packages (from jinja2>=2.11.1->pandas-profiling[notebook]) (2.0.1)\n",
      "Requirement already satisfied: python-dateutil>=2.1 in /Library/Frameworks/Python.framework/Versions/3.8/lib/python3.8/site-packages (from jupyter-client>=6.0.0->pandas-profiling[notebook]) (2.8.1)\n",
      "Requirement already satisfied: pyzmq>=13 in /Users/irico/Library/Python/3.8/lib/python/site-packages (from jupyter-client>=6.0.0->pandas-profiling[notebook]) (19.0.2)\n",
      "Requirement already satisfied: kiwisolver>=1.0.1 in /Library/Frameworks/Python.framework/Versions/3.8/lib/python3.8/site-packages (from matplotlib>=3.2.0->pandas-profiling[notebook]) (1.2.0)\n",
      "Requirement already satisfied: cycler>=0.10 in /Library/Frameworks/Python.framework/Versions/3.8/lib/python3.8/site-packages (from matplotlib>=3.2.0->pandas-profiling[notebook]) (0.10.0)\n",
      "Requirement already satisfied: pyparsing!=2.0.4,!=2.1.2,!=2.1.6,>=2.0.1 in /Library/Frameworks/Python.framework/Versions/3.8/lib/python3.8/site-packages (from matplotlib>=3.2.0->pandas-profiling[notebook]) (2.4.7)\n",
      "Requirement already satisfied: six in /Library/Frameworks/Python.framework/Versions/3.8/lib/python3.8/site-packages (from cycler>=0.10->matplotlib>=3.2.0->pandas-profiling[notebook]) (1.14.0)\n",
      "Requirement already satisfied: ipython-genutils in /Users/irico/Library/Python/3.8/lib/python/site-packages (from nbformat>=4.2.0->ipywidgets>=7.5.1->pandas-profiling[notebook]) (0.2.0)\n",
      "Requirement already satisfied: jsonschema!=2.5.0,>=2.4 in /Library/Frameworks/Python.framework/Versions/3.8/lib/python3.8/site-packages (from nbformat>=4.2.0->ipywidgets>=7.5.1->pandas-profiling[notebook]) (3.2.0)\n",
      "Requirement already satisfied: pyrsistent>=0.14.0 in /Library/Frameworks/Python.framework/Versions/3.8/lib/python3.8/site-packages (from jsonschema!=2.5.0,>=2.4->nbformat>=4.2.0->ipywidgets>=7.5.1->pandas-profiling[notebook]) (0.18.0)\n",
      "Requirement already satisfied: pytz>=2017.3 in /Library/Frameworks/Python.framework/Versions/3.8/lib/python3.8/site-packages (from pandas!=1.0.0,!=1.0.1,!=1.0.2,!=1.1.0,>=0.25.3->pandas-profiling[notebook]) (2021.1)\n",
      "Requirement already satisfied: ptyprocess>=0.5 in /Users/irico/Library/Python/3.8/lib/python/site-packages (from pexpect>4.3->ipython>=4.0.0->ipywidgets>=7.5.1->pandas-profiling[notebook]) (0.6.0)\n",
      "Requirement already satisfied: wcwidth in /Users/irico/Library/Python/3.8/lib/python/site-packages (from prompt-toolkit!=3.0.0,!=3.0.1,<3.1.0,>=2.0.0->ipython>=4.0.0->ipywidgets>=7.5.1->pandas-profiling[notebook]) (0.2.5)\n",
      "Requirement already satisfied: typing-extensions>=3.7.4.3 in /Library/Frameworks/Python.framework/Versions/3.8/lib/python3.8/site-packages (from pydantic>=1.8.1->pandas-profiling[notebook]) (3.7.4.3)\n",
      "Requirement already satisfied: charset-normalizer~=2.0.0 in /Library/Frameworks/Python.framework/Versions/3.8/lib/python3.8/site-packages (from requests>=2.24.0->pandas-profiling[notebook]) (2.0.4)\n",
      "Requirement already satisfied: urllib3<1.27,>=1.21.1 in /Library/Frameworks/Python.framework/Versions/3.8/lib/python3.8/site-packages (from requests>=2.24.0->pandas-profiling[notebook]) (1.26.6)\n",
      "Requirement already satisfied: certifi>=2017.4.17 in /Library/Frameworks/Python.framework/Versions/3.8/lib/python3.8/site-packages (from requests>=2.24.0->pandas-profiling[notebook]) (2021.5.30)\n",
      "Requirement already satisfied: idna<4,>=2.5 in /Library/Frameworks/Python.framework/Versions/3.8/lib/python3.8/site-packages (from requests>=2.24.0->pandas-profiling[notebook]) (3.2)\n",
      "Requirement already satisfied: notebook>=4.4.1 in /Library/Frameworks/Python.framework/Versions/3.8/lib/python3.8/site-packages (from widgetsnbextension~=3.5.0->ipywidgets>=7.5.1->pandas-profiling[notebook]) (6.4.3)\n",
      "Requirement already satisfied: Send2Trash>=1.5.0 in /Library/Frameworks/Python.framework/Versions/3.8/lib/python3.8/site-packages (from notebook>=4.4.1->widgetsnbextension~=3.5.0->ipywidgets>=7.5.1->pandas-profiling[notebook]) (1.8.0)\n",
      "Requirement already satisfied: prometheus-client in /Library/Frameworks/Python.framework/Versions/3.8/lib/python3.8/site-packages (from notebook>=4.4.1->widgetsnbextension~=3.5.0->ipywidgets>=7.5.1->pandas-profiling[notebook]) (0.11.0)\n",
      "Requirement already satisfied: terminado>=0.8.3 in /Library/Frameworks/Python.framework/Versions/3.8/lib/python3.8/site-packages (from notebook>=4.4.1->widgetsnbextension~=3.5.0->ipywidgets>=7.5.1->pandas-profiling[notebook]) (0.11.1)\n",
      "Requirement already satisfied: nbconvert in /Library/Frameworks/Python.framework/Versions/3.8/lib/python3.8/site-packages (from notebook>=4.4.1->widgetsnbextension~=3.5.0->ipywidgets>=7.5.1->pandas-profiling[notebook]) (6.1.0)\n",
      "Requirement already satisfied: argon2-cffi in /Library/Frameworks/Python.framework/Versions/3.8/lib/python3.8/site-packages (from notebook>=4.4.1->widgetsnbextension~=3.5.0->ipywidgets>=7.5.1->pandas-profiling[notebook]) (20.1.0)\n",
      "Requirement already satisfied: cffi>=1.0.0 in /Library/Frameworks/Python.framework/Versions/3.8/lib/python3.8/site-packages (from argon2-cffi->notebook>=4.4.1->widgetsnbextension~=3.5.0->ipywidgets>=7.5.1->pandas-profiling[notebook]) (1.14.6)\n",
      "Requirement already satisfied: pycparser in /Library/Frameworks/Python.framework/Versions/3.8/lib/python3.8/site-packages (from cffi>=1.0.0->argon2-cffi->notebook>=4.4.1->widgetsnbextension~=3.5.0->ipywidgets>=7.5.1->pandas-profiling[notebook]) (2.20)\n",
      "Requirement already satisfied: PyWavelets in /Library/Frameworks/Python.framework/Versions/3.8/lib/python3.8/site-packages (from imagehash->visions[type_image_path]==0.7.1->pandas-profiling[notebook]) (1.1.1)\n",
      "Requirement already satisfied: jupyterlab-pygments in /Library/Frameworks/Python.framework/Versions/3.8/lib/python3.8/site-packages (from nbconvert->notebook>=4.4.1->widgetsnbextension~=3.5.0->ipywidgets>=7.5.1->pandas-profiling[notebook]) (0.1.2)\n",
      "Requirement already satisfied: pandocfilters>=1.4.1 in /Library/Frameworks/Python.framework/Versions/3.8/lib/python3.8/site-packages (from nbconvert->notebook>=4.4.1->widgetsnbextension~=3.5.0->ipywidgets>=7.5.1->pandas-profiling[notebook]) (1.4.3)\n",
      "Requirement already satisfied: defusedxml in /Library/Frameworks/Python.framework/Versions/3.8/lib/python3.8/site-packages (from nbconvert->notebook>=4.4.1->widgetsnbextension~=3.5.0->ipywidgets>=7.5.1->pandas-profiling[notebook]) (0.7.1)\n",
      "Requirement already satisfied: mistune<2,>=0.8.1 in /Library/Frameworks/Python.framework/Versions/3.8/lib/python3.8/site-packages (from nbconvert->notebook>=4.4.1->widgetsnbextension~=3.5.0->ipywidgets>=7.5.1->pandas-profiling[notebook]) (0.8.4)\n",
      "Requirement already satisfied: bleach in /Library/Frameworks/Python.framework/Versions/3.8/lib/python3.8/site-packages (from nbconvert->notebook>=4.4.1->widgetsnbextension~=3.5.0->ipywidgets>=7.5.1->pandas-profiling[notebook]) (4.0.0)\n",
      "Requirement already satisfied: nbclient<0.6.0,>=0.5.0 in /Library/Frameworks/Python.framework/Versions/3.8/lib/python3.8/site-packages (from nbconvert->notebook>=4.4.1->widgetsnbextension~=3.5.0->ipywidgets>=7.5.1->pandas-profiling[notebook]) (0.5.4)\n",
      "Requirement already satisfied: entrypoints>=0.2.2 in /Library/Frameworks/Python.framework/Versions/3.8/lib/python3.8/site-packages (from nbconvert->notebook>=4.4.1->widgetsnbextension~=3.5.0->ipywidgets>=7.5.1->pandas-profiling[notebook]) (0.3)\n",
      "Requirement already satisfied: testpath in /Library/Frameworks/Python.framework/Versions/3.8/lib/python3.8/site-packages (from nbconvert->notebook>=4.4.1->widgetsnbextension~=3.5.0->ipywidgets>=7.5.1->pandas-profiling[notebook]) (0.5.0)\n",
      "Requirement already satisfied: nest-asyncio in /Library/Frameworks/Python.framework/Versions/3.8/lib/python3.8/site-packages (from nbclient<0.6.0,>=0.5.0->nbconvert->notebook>=4.4.1->widgetsnbextension~=3.5.0->ipywidgets>=7.5.1->pandas-profiling[notebook]) (1.5.1)\n",
      "Requirement already satisfied: webencodings in /Library/Frameworks/Python.framework/Versions/3.8/lib/python3.8/site-packages (from bleach->nbconvert->notebook>=4.4.1->widgetsnbextension~=3.5.0->ipywidgets>=7.5.1->pandas-profiling[notebook]) (0.5.1)\n",
      "Requirement already satisfied: packaging in /Library/Frameworks/Python.framework/Versions/3.8/lib/python3.8/site-packages (from bleach->nbconvert->notebook>=4.4.1->widgetsnbextension~=3.5.0->ipywidgets>=7.5.1->pandas-profiling[notebook]) (21.0)\n",
      "/bin/bash: jupyter: command not found\n",
      "Requirement already satisfied: kaggle in /Library/Frameworks/Python.framework/Versions/3.8/lib/python3.8/site-packages (1.5.12)\n",
      "Requirement already satisfied: six>=1.10 in /Library/Frameworks/Python.framework/Versions/3.8/lib/python3.8/site-packages (from kaggle) (1.14.0)\n",
      "Requirement already satisfied: certifi in /Library/Frameworks/Python.framework/Versions/3.8/lib/python3.8/site-packages (from kaggle) (2021.5.30)\n",
      "Requirement already satisfied: python-dateutil in /Library/Frameworks/Python.framework/Versions/3.8/lib/python3.8/site-packages (from kaggle) (2.8.1)\n",
      "Requirement already satisfied: requests in /Library/Frameworks/Python.framework/Versions/3.8/lib/python3.8/site-packages (from kaggle) (2.26.0)\n",
      "Requirement already satisfied: tqdm in /Library/Frameworks/Python.framework/Versions/3.8/lib/python3.8/site-packages (from kaggle) (4.62.1)\n",
      "Requirement already satisfied: python-slugify in /Library/Frameworks/Python.framework/Versions/3.8/lib/python3.8/site-packages (from kaggle) (5.0.2)\n",
      "Requirement already satisfied: urllib3 in /Library/Frameworks/Python.framework/Versions/3.8/lib/python3.8/site-packages (from kaggle) (1.26.6)\n",
      "Requirement already satisfied: text-unidecode>=1.3 in /Library/Frameworks/Python.framework/Versions/3.8/lib/python3.8/site-packages (from python-slugify->kaggle) (1.3)\n",
      "Requirement already satisfied: charset-normalizer~=2.0.0 in /Library/Frameworks/Python.framework/Versions/3.8/lib/python3.8/site-packages (from requests->kaggle) (2.0.4)\n",
      "Requirement already satisfied: idna<4,>=2.5 in /Library/Frameworks/Python.framework/Versions/3.8/lib/python3.8/site-packages (from requests->kaggle) (3.2)\n"
     ]
    }
   ],
   "metadata": {}
  },
  {
   "cell_type": "markdown",
   "source": [
    "You might want to restart the kernel now."
   ],
   "metadata": {}
  },
  {
   "cell_type": "code",
   "execution_count": 3,
   "source": [
    "from pathlib import Path\n",
    "\n",
    "import kaggle\n",
    "\n",
    "from pandas_profiling.utils.common import extract_zip\n",
    "\n",
    "kaggle.api.authenticate()"
   ],
   "outputs": [],
   "metadata": {}
  },
  {
   "cell_type": "markdown",
   "source": [
    "## Reorder Sections\n",
    "\n",
    "We can leverage the same approach to reorder sections. First, we need to generate a profile report."
   ],
   "metadata": {}
  },
  {
   "cell_type": "code",
   "execution_count": 5,
   "source": [
    "# We are using the Craigslist Carstrucks Data\n",
    "vehicles_dataset = Path(\"craigslist-carstrucks-data/vehicles.csv\")\n",
    "\n",
    "# Download and extract (~228M)\n",
    "if not vehicles_dataset.exists():\n",
    "    kaggle.api.dataset_download_files(\n",
    "        \"austinreese/craigslist-carstrucks-data\",\n",
    "        path=\"craigslist-carstrucks-data\",\n",
    "        quiet=False,\n",
    "    )\n",
    "\n",
    "    extract_zip(\n",
    "        \"craigslist-carstrucks-data/craigslist-carstrucks-data.zip\",\n",
    "        \"craigslist-carstrucks-data/\",\n",
    "    )"
   ],
   "outputs": [],
   "metadata": {}
  },
  {
   "cell_type": "code",
   "execution_count": 6,
   "source": [
    "import pandas as pd\n",
    "\n",
    "from pandas_profiling import ProfileReport\n",
    "\n",
    "# For our demonstration, we only take a fraction of the dataset\n",
    "df = pd.read_csv(vehicles_dataset, nrows=100)\n",
    "\n",
    "# Generate the profile report\n",
    "vehicles_report = ProfileReport(df)"
   ],
   "outputs": [],
   "metadata": {}
  },
  {
   "cell_type": "markdown",
   "source": [
    "The structure of the report is stored in the `report` attribute. The report is essentially a tree object. We inspect the root of the report."
   ],
   "metadata": {}
  },
  {
   "cell_type": "code",
   "execution_count": 7,
   "source": [
    "print(repr(vehicles_report.report))"
   ],
   "outputs": [
    {
     "output_type": "stream",
     "name": "stderr",
     "text": [
      "Summarize dataset:  79%|███████▉  | 31/39 [00:12<00:07,  1.05it/s, Calculate cramers correlation]/Library/Frameworks/Python.framework/Versions/3.8/lib/python3.8/site-packages/pandas_profiling/model/correlations.py:146: UserWarning: There was an attempt to calculate the cramers correlation, but this failed.\n",
      "To hide this warning, disable the calculation\n",
      "(using `df.profile_report(correlations={\"cramers\": {\"calculate\": False}})`\n",
      "If this is problematic for your use case, please report this as an issue:\n",
      "https://github.com/pandas-profiling/pandas-profiling/issues\n",
      "(include the error message: 'No data; `observed` has size 0.')\n",
      "  warnings.warn(\n",
      "Summarize dataset:  95%|█████████▍| 37/39 [00:31<00:03,  1.71s/it, Get messages/warnings]/Library/Frameworks/Python.framework/Versions/3.8/lib/python3.8/site-packages/pandas_profiling/model/correlations.py:210: RuntimeWarning: invalid value encountered in greater_equal\n",
      "  bool_index = abs(correlation_matrix.values) >= threshold\n",
      "Summarize dataset: 100%|██████████| 39/39 [00:31<00:00,  1.25it/s, Completed]\n",
      "Generate report structure: 100%|██████████| 1/1 [00:24<00:00, 24.97s/it]"
     ]
    },
    {
     "output_type": "stream",
     "name": "stdout",
     "text": [
      "Root\n"
     ]
    },
    {
     "output_type": "stream",
     "name": "stderr",
     "text": [
      "\n"
     ]
    }
   ],
   "metadata": {}
  },
  {
   "cell_type": "markdown",
   "source": [
    "We can see that the root object is of the type \"Sequence\". Sequence types have at least the attributes `name` and `items`."
   ],
   "metadata": {}
  },
  {
   "cell_type": "code",
   "execution_count": 8,
   "source": [
    "print(vehicles_report.report.content)"
   ],
   "outputs": [
    {
     "output_type": "stream",
     "name": "stdout",
     "text": [
      "{'body': Container(name=Root), 'footer': HTML, 'name': 'Root'}\n"
     ]
    }
   ],
   "metadata": {}
  },
  {
   "cell_type": "markdown",
   "source": [
    "In this example, we would like to pull up the samples section, so that the reordered sequence items are:\n",
    "- Overview\n",
    "- Samples\n",
    "- Missing\n",
    "- Variables\n",
    "- Interactions\n",
    "- Correlations\n",
    "\n"
   ],
   "metadata": {}
  },
  {
   "cell_type": "code",
   "execution_count": 9,
   "source": [
    "# Reorder the sections\n",
    "vehicles_report.report.content[\"items\"] = [\n",
    "    vehicles_report.report.content[\"items\"][i] for i in [0, 5, 1, 2, 3, 4]\n",
    "]"
   ],
   "outputs": [
    {
     "output_type": "error",
     "ename": "KeyError",
     "evalue": "'items'",
     "traceback": [
      "\u001b[0;31m---------------------------------------------------------------------------\u001b[0m",
      "\u001b[0;31mKeyError\u001b[0m                                  Traceback (most recent call last)",
      "\u001b[0;32m<ipython-input-9-06a8be65df79>\u001b[0m in \u001b[0;36m<module>\u001b[0;34m\u001b[0m\n\u001b[1;32m      1\u001b[0m \u001b[0;31m# Reorder the sections\u001b[0m\u001b[0;34m\u001b[0m\u001b[0;34m\u001b[0m\u001b[0;34m\u001b[0m\u001b[0m\n\u001b[0;32m----> 2\u001b[0;31m vehicles_report.report.content[\"items\"] = [\n\u001b[0m\u001b[1;32m      3\u001b[0m     \u001b[0mvehicles_report\u001b[0m\u001b[0;34m.\u001b[0m\u001b[0mreport\u001b[0m\u001b[0;34m.\u001b[0m\u001b[0mcontent\u001b[0m\u001b[0;34m[\u001b[0m\u001b[0;34m\"items\"\u001b[0m\u001b[0;34m]\u001b[0m\u001b[0;34m[\u001b[0m\u001b[0mi\u001b[0m\u001b[0;34m]\u001b[0m \u001b[0;32mfor\u001b[0m \u001b[0mi\u001b[0m \u001b[0;32min\u001b[0m \u001b[0;34m[\u001b[0m\u001b[0;36m0\u001b[0m\u001b[0;34m,\u001b[0m \u001b[0;36m5\u001b[0m\u001b[0;34m,\u001b[0m \u001b[0;36m1\u001b[0m\u001b[0;34m,\u001b[0m \u001b[0;36m2\u001b[0m\u001b[0;34m,\u001b[0m \u001b[0;36m3\u001b[0m\u001b[0;34m,\u001b[0m \u001b[0;36m4\u001b[0m\u001b[0;34m]\u001b[0m\u001b[0;34m\u001b[0m\u001b[0;34m\u001b[0m\u001b[0m\n\u001b[1;32m      4\u001b[0m ]\n",
      "\u001b[0;32m<ipython-input-9-06a8be65df79>\u001b[0m in \u001b[0;36m<listcomp>\u001b[0;34m(.0)\u001b[0m\n\u001b[1;32m      1\u001b[0m \u001b[0;31m# Reorder the sections\u001b[0m\u001b[0;34m\u001b[0m\u001b[0;34m\u001b[0m\u001b[0;34m\u001b[0m\u001b[0m\n\u001b[1;32m      2\u001b[0m vehicles_report.report.content[\"items\"] = [\n\u001b[0;32m----> 3\u001b[0;31m     \u001b[0mvehicles_report\u001b[0m\u001b[0;34m.\u001b[0m\u001b[0mreport\u001b[0m\u001b[0;34m.\u001b[0m\u001b[0mcontent\u001b[0m\u001b[0;34m[\u001b[0m\u001b[0;34m\"items\"\u001b[0m\u001b[0;34m]\u001b[0m\u001b[0;34m[\u001b[0m\u001b[0mi\u001b[0m\u001b[0;34m]\u001b[0m \u001b[0;32mfor\u001b[0m \u001b[0mi\u001b[0m \u001b[0;32min\u001b[0m \u001b[0;34m[\u001b[0m\u001b[0;36m0\u001b[0m\u001b[0;34m,\u001b[0m \u001b[0;36m5\u001b[0m\u001b[0;34m,\u001b[0m \u001b[0;36m1\u001b[0m\u001b[0;34m,\u001b[0m \u001b[0;36m2\u001b[0m\u001b[0;34m,\u001b[0m \u001b[0;36m3\u001b[0m\u001b[0;34m,\u001b[0m \u001b[0;36m4\u001b[0m\u001b[0;34m]\u001b[0m\u001b[0;34m\u001b[0m\u001b[0;34m\u001b[0m\u001b[0m\n\u001b[0m\u001b[1;32m      4\u001b[0m ]\n",
      "\u001b[0;31mKeyError\u001b[0m: 'items'"
     ]
    }
   ],
   "metadata": {}
  },
  {
   "cell_type": "markdown",
   "source": [
    "Finally, we can render the report and see that the changes have taken place:"
   ],
   "metadata": {}
  },
  {
   "cell_type": "code",
   "execution_count": null,
   "source": [
    "vehicles_report.to_notebook_iframe()"
   ],
   "outputs": [],
   "metadata": {}
  },
  {
   "cell_type": "markdown",
   "source": [
    "## Split Profile Reports\n",
    "\n",
    "When profiling large datasets, a monolithic HTML file can become enormous. Using the report structure generated by `pandas-profiling`, we create a modular report. In this notebook we demonstrate how to split up a profile report in multiple different titles. We start with generating the report's structure in the usual way. The `minimal` mode is set to `True`. This step may take a few minutes."
   ],
   "metadata": {}
  },
  {
   "cell_type": "code",
   "execution_count": null,
   "source": [
    "# We are using the IEEE Fraud Detection transaction training data\n",
    "ieee_dataset = Path(\"ieee-fraud-detection/train_transaction.csv\")\n",
    "\n",
    "# Download and extract (~118M)\n",
    "if not ieee_dataset.exists():\n",
    "    kaggle.api.competition_download_files(\n",
    "        \"ieee-fraud-detection\", path=\"ieee-fraud-detection\", quiet=False\n",
    "    )\n",
    "\n",
    "    extract_zip(\n",
    "        \"ieee-fraud-detection/ieee-fraud-detection.zip\",\n",
    "        \"ieee-fraud-detection/\",\n",
    "    )"
   ],
   "outputs": [],
   "metadata": {}
  },
  {
   "cell_type": "code",
   "execution_count": null,
   "source": [
    "import pandas as pd\n",
    "\n",
    "from pandas_profiling import ProfileReport\n",
    "\n",
    "# Read the dataset\n",
    "df = pd.read_csv(ieee_dataset)\n",
    "\n",
    "# Generate the profile report\n",
    "ieee_fraud_report = ProfileReport(df, minimal=True)"
   ],
   "outputs": [],
   "metadata": {}
  },
  {
   "cell_type": "code",
   "execution_count": null,
   "source": [
    "print(repr(ieee_fraud_report.report))"
   ],
   "outputs": [],
   "metadata": {}
  },
  {
   "cell_type": "code",
   "execution_count": null,
   "source": [
    "print(repr(ieee_fraud_report.report.content))"
   ],
   "outputs": [],
   "metadata": {}
  },
  {
   "cell_type": "code",
   "execution_count": null,
   "source": [
    "from copy import deepcopy\n",
    "\n",
    "# Make a copy for the original report structure\n",
    "original_report_structure = deepcopy(ieee_fraud_report.report)"
   ],
   "outputs": [],
   "metadata": {}
  },
  {
   "cell_type": "code",
   "execution_count": null,
   "source": [
    "# Loop over each section\n",
    "for section in original_report_structure.content[\"items\"]:\n",
    "    # Only consider sections that contain items\n",
    "    #     if len(section.content['items']) > 0:\n",
    "    # Set the report structure\n",
    "    ieee_fraud_report.report = deepcopy(original_report_structure)\n",
    "    # Overwrite the section lists with the section we would like to print\n",
    "    ieee_fraud_report.report.content[\"items\"] = [section]\n",
    "    # Output the report to HTML\n",
    "    ieee_fraud_report.to_file(f\"ieee_fraud_report_section_{section.name.lower()}.html\")"
   ],
   "outputs": [],
   "metadata": {
    "scrolled": true
   }
  },
  {
   "cell_type": "markdown",
   "source": [
    "## Paginate variables\n",
    "We can use the same approach to paginate variables:"
   ],
   "metadata": {}
  },
  {
   "cell_type": "code",
   "execution_count": null,
   "source": [
    "ieee_fraud_report.report = original_report_structure\n",
    "\n",
    "# Number of variables per page\n",
    "page_size = 25\n",
    "\n",
    "# The Root node, which is a sequence of sections\n",
    "print(repr(ieee_fraud_report.report.content[\"items\"]))\n",
    "\n",
    "# The variables\n",
    "variable_section = ieee_fraud_report.report.content[\"items\"][1]\n",
    "variables = variable_section.content[\"items\"]\n",
    "variable_count = len(variables)\n",
    "print(f\"Number of variables: {variable_count}\")\n",
    "\n",
    "# Reset the report structure\n",
    "ieee_fraud_report.report = deepcopy(original_report_structure)\n",
    "\n",
    "# Only keep the variables section\n",
    "ieee_fraud_report.report.content[\"items\"] = [\n",
    "    ieee_fraud_report.report.content[\"items\"][1]\n",
    "]\n",
    "\n",
    "for page_num, variable_page in enumerate(\n",
    "    [variables[i : i + page_size] for i in range(0, variable_count, page_size)]\n",
    "):\n",
    "    print(f\"Write page {page_num}\")\n",
    "    # Set the report title\n",
    "    ieee_fraud_report.title = (\n",
    "        f\"IEEE Fraud Detection Dataset, Variables, Page {page_num}\"\n",
    "    )\n",
    "\n",
    "    # Overwrite the variables lists with the variables we would like to print\n",
    "    ieee_fraud_report.report.content[\"items\"][0].content[\"items\"] = variable_page\n",
    "\n",
    "    # Output the report to HTML\n",
    "    ieee_fraud_report.to_file(f\"ieee_fraud_report_variables_page_{page_num}.html\")"
   ],
   "outputs": [],
   "metadata": {}
  },
  {
   "cell_type": "markdown",
   "source": [
    "In this notebook we have seen two ways of manipulating the report structure. Advanced users may alter the structure in other ways we have not touched, such as exploring deeper parts of the tree structure or inserting and deleting objects."
   ],
   "metadata": {}
  }
 ],
 "metadata": {
  "kernelspec": {
   "name": "python3",
   "display_name": "Python 3.8.2 64-bit"
  },
  "language_info": {
   "codemirror_mode": {
    "name": "ipython",
    "version": 3
   },
   "file_extension": ".py",
   "mimetype": "text/x-python",
   "name": "python",
   "nbconvert_exporter": "python",
   "pygments_lexer": "ipython3",
   "version": "3.8.2"
  },
  "pycharm": {
   "stem_cell": {
    "cell_type": "raw",
    "metadata": {
     "collapsed": false
    },
    "source": []
   }
  },
  "interpreter": {
   "hash": "aee8b7b246df8f9039afb4144a1f6fd8d2ca17a180786b69acc140d282b71a49"
  }
 },
 "nbformat": 4,
 "nbformat_minor": 4
}